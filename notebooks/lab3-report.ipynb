{
  "nbformat": 4,
  "nbformat_minor": 0,
  "metadata": {
    "colab": {
      "name": "lab3-report.ipynb",
      "provenance": [],
      "collapsed_sections": []
    },
    "kernelspec": {
      "name": "python3",
      "display_name": "Python 3"
    }
  },
  "cells": [
    {
      "cell_type": "markdown",
      "metadata": {
        "id": "IEkdxSZ555Ox"
      },
      "source": [
        "# Лаб 4: RSA Public-Key Encryption and Signature Lab\n",
        "\n",
        "*17B1NUM0662 Бямбаа Баярмандах*\n",
        "\n",
        "*Мэдээлэл Технологи-4*"
      ]
    },
    {
      "cell_type": "markdown",
      "metadata": {
        "id": "Y41SE-0C5-Rs"
      },
      "source": [
        "## Setup\n",
        "[![Open In Colab](https://colab.research.google.com/assets/colab-badge.svg)](https://colab.research.google.com/github/byambaa0325/seed-security-labs/blob/master/notebooks/lab4-report.ipynb)\n",
        "\n",
        "(Recommended) Тайланг Google Colab клоүд платформ дээр интерактив Jupyter Notebook-ээр бэлдсэн тул шууд ажлуулаад туршиж болно. Дээрх товчийг дараад Google Colab нөүтбүүк instance үүсгээд ажлуулж болно.\n",
        "\n",
        "(Not Recommended) Хэрвээ өөрийн машин дээрээ ажлуулж байгаа бол [дараах линкээр](https://seedsecuritylabs.org/lab_env.html) ороод VM-ээ setup хийгээд нөүтбүүк дээр байгаа кодны нүднүүдийг хуулаад ажлуулж болно. \n",
        "\n",
        "Jupyter notebook ажиллуулах зааврыг [энэхүү линкээс](https://colab.research.google.com/notebooks/intro.ipynb) аваарай. Ерөнхийдөө, ажиллуулах нүдээ сонгоод `shift+enter` дараад байхад болно."
      ]
    },
    {
      "cell_type": "markdown",
      "metadata": {
        "id": "2XTUvgJ86JW-"
      },
      "source": [
        "## Overview\n",
        "RSA (Rivest–Shamir–Adleman) нь аюулгүй мэдээлэл дамжуулалтанд өргөн хэрэглэгддэг, анхдагч public-key cryptosystems юм. RSA нь хоёр маш том анхны тоо үүсгэн тэднээсээ public ба private key үүсгэж эдгээр түлхүүрээ нууцлал, тайлал, дижитал гарын үсгийн үүсгэл ба шалгалтанд ашигладаг.\n",
        "\n",
        "Энэхүү лаб-аар RSA алгоритмийг туршиж, хэрэгжүүлж үзэх юм. Үүнд бид Jupyter Notebook дээр Python ашиглаж RSA-г хэрэгжүүлэх ба мөн дараах сэдвийг хамрана:\n",
        "* Public-key cryptography\n",
        "* The RSA algorithm and key generation\n",
        "* Big number calculation\n",
        "* Encryption and Decryption using RSA\n",
        "* Digital signature\n",
        "* X.509 certificate\n",
        "\n",
        "**Readings and videos**. \n",
        "* Chapter 23 of the SEED Book, Computer & Internet Security: A Hands-on Approach, 2nd Edition,\n",
        "by Wenliang Du. See details at https://www.handsonsecurity.net.\n"
      ]
    },
    {
      "cell_type": "markdown",
      "metadata": {
        "id": "evJMGD5a8-G9"
      },
      "source": [
        "### Python \n",
        "\n",
        "Энэхүү лаб нь хуучнаар С дээр BIGNUM буюу том хэмжээний тоотой ажиллах санг ашиглан хийгддэг. Энэ нь C гэх мэт доод түвшний хийсвэрлэлттэй хэлнүүдэд тооны төрлүүд нь 32 битээр хязгаарлагддагтай холбоотой. RSA алгоритм нь 512 бит тоотой ажилладаг тул нэмэлт сангийн тусламжтайгаар ийм тоотой ажилладаг.\n",
        "\n",
        "Харин Python-ий хувьд хэлийн int төрөл нь ямар ч хэмжээний тоотой ажиллах боломжтой байдаг. Энэ нь хэрэгжүүлэлтийн доод төвшиндөө динамикаар санах ойтой ажилладаг тул санах ойн хэмжээгээрээ ажиллаж болно гэсэн үг юм."
      ]
    },
    {
      "cell_type": "markdown",
      "metadata": {
        "id": "Q6RYZIoe9-BY"
      },
      "source": [
        "## Дасгал 1: Deriving the Private Key\n",
        "\n",
        "`p,q,e` нь анхны тоо байг. `n` нь `n = p*q` байг. Бид `(e, n)`-ийг public key болгож ашиглах бол private key `d` хэд байхийг ол.\n",
        "\n",
        "\n",
        "```\n",
        "p = F7E75FDC469067FFDC4E847C51F452DF\n",
        "q = E85CED54AF57E53E092113E62F436F4F\n",
        "e = 0D88C3\n",
        "```\n",
        "\n",
        "Эдгээр тоо нь хэдий том болов ч аюулгүй байж чадхаар том биш юм. Практикт 512 битээр ашиглаж байж аюулгүй байдаг бол энд нь 128 бит юм."
      ]
    },
    {
      "cell_type": "code",
      "metadata": {
        "id": "131THiuv5547"
      },
      "source": [
        "from math import gcd\n",
        "\n",
        "p = int('F7E75FDC469067FFDC4E847C51F452DF', 16)\n",
        "q = int('E85CED54AF57E53E092113E62F436F4F', 16)\n",
        "e = int('0D88C3', 16)\n",
        "v = (p-1)*(q-1)\n",
        "n = p*q"
      ],
      "execution_count": null,
      "outputs": []
    },
    {
      "cell_type": "markdown",
      "metadata": {
        "id": "T9p8mdWvjI-F"
      },
      "source": [
        "Private key нь d^e%n = 1 байх d-ийн утга юм. Үүнийг олхын тулд модульийн эсрэгээр нь олох томьео ашиглана."
      ]
    },
    {
      "cell_type": "code",
      "metadata": {
        "id": "OsWLxEx7_ny1"
      },
      "source": [
        "def getModInverse(a, m):\n",
        "    if gcd(a, m) != 1:\n",
        "        return None\n",
        "    u1, u2, u3 = 1, 0, a\n",
        "    v1, v2, v3 = 0, 1, m\n",
        "\n",
        "    while v3 != 0:\n",
        "        q = u3 // v3\n",
        "        v1, v2, v3, u1, u2, u3 = (\n",
        "            u1 - q * v1), (u2 - q * v2), (u3 - q * v3), v1, v2, v3\n",
        "    return u1 % m\n",
        "d = getModInverse(e,v)"
      ],
      "execution_count": null,
      "outputs": []
    },
    {
      "cell_type": "markdown",
      "metadata": {
        "id": "LqbU0UGij0OS"
      },
      "source": [
        "Олдсон d:"
      ]
    },
    {
      "cell_type": "code",
      "metadata": {
        "id": "SIc719auAI2z",
        "outputId": "005ee55d-1d94-406f-ae4f-b1ee625f9745",
        "colab": {
          "base_uri": "https://localhost:8080/",
          "height": 34
        }
      },
      "source": [
        "print(d)"
      ],
      "execution_count": null,
      "outputs": [
        {
          "output_type": "stream",
          "text": [
            "24212225287904763939160097464943268930139828978795606022583874367720623008491\n"
          ],
          "name": "stdout"
        }
      ]
    },
    {
      "cell_type": "markdown",
      "metadata": {
        "id": "RQcjlaNBj4Ap"
      },
      "source": [
        "Шалгавал:\n"
      ]
    },
    {
      "cell_type": "code",
      "metadata": {
        "id": "yT-vpWXCClwI",
        "outputId": "41fef6ff-544e-4bea-eb75-dc9d3852c661",
        "colab": {
          "base_uri": "https://localhost:8080/",
          "height": 34
        }
      },
      "source": [
        "(d*e)%v"
      ],
      "execution_count": null,
      "outputs": [
        {
          "output_type": "execute_result",
          "data": {
            "text/plain": [
              "1"
            ]
          },
          "metadata": {
            "tags": []
          },
          "execution_count": 4
        }
      ]
    },
    {
      "cell_type": "markdown",
      "metadata": {
        "id": "U8WhIMODj66J"
      },
      "source": [
        "Доорх нь ашиглах Public ба Private key юм."
      ]
    },
    {
      "cell_type": "code",
      "metadata": {
        "id": "OMZMqVZZAW9T"
      },
      "source": [
        "public_key = (e, n)\n",
        "private_key = (d, n)"
      ],
      "execution_count": null,
      "outputs": []
    },
    {
      "cell_type": "markdown",
      "metadata": {
        "id": "p12on5_QkECa"
      },
      "source": [
        "## Дасгал 2 ба 3: Encrypting and Decrypting a Message\n",
        "Доорх түлхүүрүүдийг ашиглан RSA алгоритмаар мессежийг нууцлаад дараа нь буцааж тайлан ижил байгаа эсхийг шалгая."
      ]
    },
    {
      "cell_type": "code",
      "metadata": {
        "id": "cuYub9VUAbXp"
      },
      "source": [
        "def encrypt(message, key):\n",
        "  M = message.encode(\"utf-8\").hex()\n",
        "  M = int(M, 16)\n",
        "  assert M < key[1]\n",
        "  C = pow(M, key[0], key[1])\n",
        "  return C\n",
        "\n",
        "def decrypt(cipher, key):\n",
        "  M = pow(cipher, key[0], key[1])\n",
        "  M = hex(M)[2:]\n",
        "  return bytes.fromhex(M).decode(\"utf-8\")"
      ],
      "execution_count": null,
      "outputs": []
    },
    {
      "cell_type": "code",
      "metadata": {
        "id": "Y4pRCZ8qMl44"
      },
      "source": [
        "#Test Parameters\n",
        "n = 'DCBFFE3E51F62E09CE7032E2677A78946A849DC4CDDE3A4D0CB81629242FB1A5'\n",
        "e = '010001'\n",
        "M = 'A top secret!'\n",
        "d = '74D806F9F3A62BAE331FFE3F0A68AFE35B3D2E4794148AACBC26AA381CD7D30D'\n",
        "public_key = (int(e,16), int(n,16))\n",
        "private_key = (int(d,16), int(n,16))"
      ],
      "execution_count": null,
      "outputs": []
    },
    {
      "cell_type": "markdown",
      "metadata": {
        "id": "Oz4190AokbA_"
      },
      "source": [
        "Дараалаад нууцлаад тайлхад үндсэн мессеж ижил байгааг харж болно."
      ]
    },
    {
      "cell_type": "code",
      "metadata": {
        "id": "oTeONc-yDk0E",
        "outputId": "fea37d9e-b09e-4657-a265-6055163d8d1d",
        "colab": {
          "base_uri": "https://localhost:8080/",
          "height": 35
        }
      },
      "source": [
        "decrypt(encrypt(\"Hi\", public_key), private_key)"
      ],
      "execution_count": null,
      "outputs": [
        {
          "output_type": "execute_result",
          "data": {
            "application/vnd.google.colaboratory.intrinsic+json": {
              "type": "string"
            },
            "text/plain": [
              "'Hi'"
            ]
          },
          "metadata": {
            "tags": []
          },
          "execution_count": 8
        }
      ]
    },
    {
      "cell_type": "markdown",
      "metadata": {
        "id": "Vw6VpAhIkhao"
      },
      "source": [
        "## Дасгал 4 ба 5: Signing a Message and Verifying a Signature\n",
        "\n",
        "Нууцласан мессежэндээ өөрийн гарын үсгээ hex-ээр залгаад тухайн гарын үсгээ залгагдсан байгаа эсхийг шалгая. \n"
      ]
    },
    {
      "cell_type": "code",
      "metadata": {
        "id": "HcDNSn4dQma_"
      },
      "source": [
        "def encrypt_hex(message, key, hex_signature = None):\n",
        "  M = message.encode(\"utf-8\").hex()\n",
        "  #if hex_signature:\n",
        "  #  M = M + hex_signature\n",
        "  M = int(M, 16)\n",
        "  #assert M < key[1]\n",
        "  C = pow(M, key[0], key[1])\n",
        "  if hex_signature:\n",
        "    print(hex(C)[2:])\n",
        "    C = hex(C)[2:] + hex_signature\n",
        "  return C\n",
        "\n",
        "def decrypt_hex(cipher, key, hex_signature = None):\n",
        "  #M = pow(cipher, key[0], key[1])\n",
        "  #M = hex(M)[2:]\n",
        "  M = cipher\n",
        "  if hex_signature:\n",
        "    signature = M[-(len(hex_signature)):]\n",
        "    M = M[:-len(hex_signature)]\n",
        "    print(M)\n",
        "    if signature != hex_signature:\n",
        "      print(\"Signature invalid\")\n",
        "    else:\n",
        "      print(\"Signature Valid\")\n",
        "  "
      ],
      "execution_count": null,
      "outputs": []
    },
    {
      "cell_type": "markdown",
      "metadata": {
        "id": "obBHvn24k8KY"
      },
      "source": [
        "Гарын үсэг баталгаажиж байгааг харж болно."
      ]
    },
    {
      "cell_type": "code",
      "metadata": {
        "id": "i34-8yRES4Di",
        "outputId": "57a71db4-442e-43f3-bdd9-d8307f32873f",
        "colab": {
          "base_uri": "https://localhost:8080/",
          "height": 68
        }
      },
      "source": [
        "decrypt_hex(encrypt_hex(\"I owe you $2000\", public_key, hex_signature = \"aa\"), private_key, hex_signature = \"aa\")"
      ],
      "execution_count": null,
      "outputs": [
        {
          "output_type": "stream",
          "text": [
            "16cdc2d574c9fdcf64a9e387f9ef69ab8bf9d6b839abcdbf617ef41ba12be37b\n",
            "16cdc2d574c9fdcf64a9e387f9ef69ab8bf9d6b839abcdbf617ef41ba12be37b\n",
            "Signature Valid\n"
          ],
          "name": "stdout"
        }
      ]
    },
    {
      "cell_type": "markdown",
      "metadata": {
        "id": "PswXOxPDlFC3"
      },
      "source": [
        "Тайлахгүйгээр нууцласан мессежийн ард залгагдсан эсхийг мөн шалгаж болно."
      ]
    },
    {
      "cell_type": "code",
      "metadata": {
        "id": "5jtX3xwRS5qZ",
        "outputId": "fb261ae8-3ec8-4b34-b012-8b1b1b01f9b0",
        "colab": {
          "base_uri": "https://localhost:8080/",
          "height": 51
        }
      },
      "source": [
        "M = 'Launch a missile.'\n",
        "S = '643D6F34902D9C7EC90CB0B2BCA36C47FA37165C0005CAB026C0542CBDB6802F'\n",
        "e = '010001'\n",
        "n = 'AE1CD4DC432798D933779FBD46C6E1247F0CF1233595113AA51B450F18116115'\n",
        "e = int(e, 16)\n",
        "n = int(n, 16)\n",
        "public_key = (e,n)\n",
        "private_key = None\n",
        "cipher = encrypt_hex(M, public_key, hex_signature = S)\n",
        "\n",
        "cipher_hex = cipher\n",
        "\n",
        "if cipher_hex[-(len(S)):] == S:\n",
        "  print(\"Appended hex signature is valid\")\n",
        "else:\n",
        "  print(\"Appended hex signature is invalid\")\n"
      ],
      "execution_count": null,
      "outputs": [
        {
          "output_type": "stream",
          "text": [
            "73f8c2374928dcfcf51b9fb4cf46520134b1ac6610f5af4854eef6ee03d47daa\n",
            "Appended hex signature is valid\n"
          ],
          "name": "stdout"
        }
      ]
    },
    {
      "cell_type": "markdown",
      "metadata": {
        "id": "OBBdp6cRl5EJ"
      },
      "source": [
        "## Дасгал 6: Manually Verifying an X.509 Certificate\n",
        "\n",
        "Энэ дасгалаар Х.509 certificate-ийг гараар баталгаажуулах болно. Ингэхдээ жинхэнэ certificate татаж аваад түүнийгээ шалгана.\n",
        "\n",
        "Бидний ашиглах жишээ нь `example.org` юм. Эхлээд үүний сертификатыг татаж авая:\n"
      ]
    },
    {
      "cell_type": "code",
      "metadata": {
        "id": "fvXdcrcVXzwW",
        "outputId": "3299e37e-c50a-4a88-f185-c0ae7f795108",
        "colab": {
          "base_uri": "https://localhost:8080/",
          "height": 1000
        }
      },
      "source": [
        "! openssl s_client -connect www.example.org:443 -showcerts"
      ],
      "execution_count": null,
      "outputs": [
        {
          "output_type": "stream",
          "text": [
            "CONNECTED(00000005)\n",
            "depth=2 C = US, O = DigiCert Inc, OU = www.digicert.com, CN = DigiCert Global Root CA\n",
            "verify return:1\n",
            "depth=1 C = US, O = DigiCert Inc, CN = DigiCert SHA2 Secure Server CA\n",
            "verify return:1\n",
            "depth=0 C = US, ST = California, L = Los Angeles, O = Internet Corporation for Assigned Names and Numbers, OU = Technology, CN = www.example.org\n",
            "verify return:1\n",
            "---\n",
            "Certificate chain\n",
            " 0 s:C = US, ST = California, L = Los Angeles, O = Internet Corporation for Assigned Names and Numbers, OU = Technology, CN = www.example.org\n",
            "   i:C = US, O = DigiCert Inc, CN = DigiCert SHA2 Secure Server CA\n",
            "-----BEGIN CERTIFICATE-----\n",
            "MIIHQDCCBiigAwIBAgIQD9B43Ujxor1NDyupa2A4/jANBgkqhkiG9w0BAQsFADBN\n",
            "MQswCQYDVQQGEwJVUzEVMBMGA1UEChMMRGlnaUNlcnQgSW5jMScwJQYDVQQDEx5E\n",
            "aWdpQ2VydCBTSEEyIFNlY3VyZSBTZXJ2ZXIgQ0EwHhcNMTgxMTI4MDAwMDAwWhcN\n",
            "MjAxMjAyMTIwMDAwWjCBpTELMAkGA1UEBhMCVVMxEzARBgNVBAgTCkNhbGlmb3Ju\n",
            "aWExFDASBgNVBAcTC0xvcyBBbmdlbGVzMTwwOgYDVQQKEzNJbnRlcm5ldCBDb3Jw\n",
            "b3JhdGlvbiBmb3IgQXNzaWduZWQgTmFtZXMgYW5kIE51bWJlcnMxEzARBgNVBAsT\n",
            "ClRlY2hub2xvZ3kxGDAWBgNVBAMTD3d3dy5leGFtcGxlLm9yZzCCASIwDQYJKoZI\n",
            "hvcNAQEBBQADggEPADCCAQoCggEBANDwEnSgliByCGUZElpdStA6jGaPoCkrp9vV\n",
            "rAzPpXGSFUIVsAeSdjF11yeOTVBqddF7U14nqu3rpGA68o5FGGtFM1yFEaogEv5g\n",
            "rJ1MRY/d0w4+dw8JwoVlNMci+3QTuUKf9yH28JxEdG3J37Mfj2C3cREGkGNBnY80\n",
            "eyRJRqzy8I0LSPTTkhr3okXuzOXXg38ugr1x3SgZWDNuEaE6oGpyYJIBWZ9jF3pJ\n",
            "QnucP9vTBejMh374qvyd0QVQq3WxHrogy4nUbWw3gihMxT98wRD1oKVma1NTydvt\n",
            "hcNtBfhkp8kO64/hxLHrLWgOFT/l4tz8IWQt7mkrBHjbd2XLVPkCAwEAAaOCA8Ew\n",
            "ggO9MB8GA1UdIwQYMBaAFA+AYRyCMWHVLyjnjUY4tCzhxtniMB0GA1UdDgQWBBRm\n",
            "mGIC4AmRp9njNvt2xrC/oW2nvjCBgQYDVR0RBHoweIIPd3d3LmV4YW1wbGUub3Jn\n",
            "ggtleGFtcGxlLmNvbYILZXhhbXBsZS5lZHWCC2V4YW1wbGUubmV0ggtleGFtcGxl\n",
            "Lm9yZ4IPd3d3LmV4YW1wbGUuY29tgg93d3cuZXhhbXBsZS5lZHWCD3d3dy5leGFt\n",
            "cGxlLm5ldDAOBgNVHQ8BAf8EBAMCBaAwHQYDVR0lBBYwFAYIKwYBBQUHAwEGCCsG\n",
            "AQUFBwMCMGsGA1UdHwRkMGIwL6AtoCuGKWh0dHA6Ly9jcmwzLmRpZ2ljZXJ0LmNv\n",
            "bS9zc2NhLXNoYTItZzYuY3JsMC+gLaArhilodHRwOi8vY3JsNC5kaWdpY2VydC5j\n",
            "b20vc3NjYS1zaGEyLWc2LmNybDBMBgNVHSAERTBDMDcGCWCGSAGG/WwBATAqMCgG\n",
            "CCsGAQUFBwIBFhxodHRwczovL3d3dy5kaWdpY2VydC5jb20vQ1BTMAgGBmeBDAEC\n",
            "AjB8BggrBgEFBQcBAQRwMG4wJAYIKwYBBQUHMAGGGGh0dHA6Ly9vY3NwLmRpZ2lj\n",
            "ZXJ0LmNvbTBGBggrBgEFBQcwAoY6aHR0cDovL2NhY2VydHMuZGlnaWNlcnQuY29t\n",
            "L0RpZ2lDZXJ0U0hBMlNlY3VyZVNlcnZlckNBLmNydDAMBgNVHRMBAf8EAjAAMIIB\n",
            "fwYKKwYBBAHWeQIEAgSCAW8EggFrAWkAdwCkuQmQtBhYFIe7E6LMZ3AKPDWYBPkb\n",
            "37jjd80OyA3cEAAAAWdcMZVGAAAEAwBIMEYCIQCEZIG3IR36Gkj1dq5L6EaGVycX\n",
            "sHvpO7dKV0JsooTEbAIhALuTtf4wxGTkFkx8blhTV+7sf6pFT78ORo7+cP39jkJC\n",
            "AHYAh3W/51l8+IxDmV+9827/Vo1HVjb/SrVgwbTq/16ggw8AAAFnXDGWFQAABAMA\n",
            "RzBFAiBvqnfSHKeUwGMtLrOG3UGLQIoaL3+uZsGTX3MfSJNQEQIhANL5nUiGBR6g\n",
            "l0QlCzzqzvorGXyB/yd7nttYttzo8EpOAHYAb1N2rDHwMRnYmQCkURX/dxUcEdkC\n",
            "wQApBo2yCJo32RMAAAFnXDGWnAAABAMARzBFAiEA5Hn7Q4SOyqHkT+kDsHq7ku7z\n",
            "RDuM7P4UDX2ft2Mpny0CIE13WtxJAUr0aASFYZ/XjSAMMfrB0/RxClvWVss9LHKM\n",
            "MA0GCSqGSIb3DQEBCwUAA4IBAQBzcIXvQEGnakPVeJx7VUjmvGuZhrr7DQOLeP4R\n",
            "8CmgDM1pFAvGBHiyzvCH1QGdxFl6cf7wbp7BoLCRLR/qPVXFMwUMzcE1GLBqaGZM\n",
            "v1Yh2lvZSLmMNSGRXdx113pGLCInpm/TOhfrvr0TxRImc8BdozWJavsn1N2qdHQu\n",
            "N+UBO6bQMLCD0KHEdSGFsuX6ZwAworxTg02/1qiDu7zW7RyzHvFYA4IAjpzvkPIa\n",
            "X6KjBtpdvp/aXabmL95YgBjT8WJ7pqOfrqhpcmOBZa6Cg6O1l4qbIFH/Gj9hQB5I\n",
            "0Gs4+eH6F9h3SojmPTYkT+8KuZ9w84Mn+M8qBXUQoYoKgIjN\n",
            "-----END CERTIFICATE-----\n",
            " 1 s:C = US, O = DigiCert Inc, CN = DigiCert SHA2 Secure Server CA\n",
            "   i:C = US, O = DigiCert Inc, OU = www.digicert.com, CN = DigiCert Global Root CA\n",
            "-----BEGIN CERTIFICATE-----\n",
            "MIIElDCCA3ygAwIBAgIQAf2j627KdciIQ4tyS8+8kTANBgkqhkiG9w0BAQsFADBh\n",
            "MQswCQYDVQQGEwJVUzEVMBMGA1UEChMMRGlnaUNlcnQgSW5jMRkwFwYDVQQLExB3\n",
            "d3cuZGlnaWNlcnQuY29tMSAwHgYDVQQDExdEaWdpQ2VydCBHbG9iYWwgUm9vdCBD\n",
            "QTAeFw0xMzAzMDgxMjAwMDBaFw0yMzAzMDgxMjAwMDBaME0xCzAJBgNVBAYTAlVT\n",
            "MRUwEwYDVQQKEwxEaWdpQ2VydCBJbmMxJzAlBgNVBAMTHkRpZ2lDZXJ0IFNIQTIg\n",
            "U2VjdXJlIFNlcnZlciBDQTCCASIwDQYJKoZIhvcNAQEBBQADggEPADCCAQoCggEB\n",
            "ANyuWJBNwcQwFZA1W248ghX1LFy949v/cUP6ZCWA1O4Yok3wZtAKc24RmDYXZK83\n",
            "nf36QYSvx6+M/hpzTc8zl5CilodTgyu5pnVILR1WN3vaMTIa16yrBvSqXUu3R0bd\n",
            "KpPDkC55gIDvEwRqFDu1m5K+wgdlTvza/P96rtxcflUxDOg5B6TXvi/TC2rSsd9f\n",
            "/ld0Uzs1gN2ujkSYs58O09rg1/RrKatEp0tYhG2SS4HD2nOLEpdIkARFdRrdNzGX\n",
            "kujNVA075ME/OV4uuPNcfhCOhkEAjUVmR7ChZc6gqikJTvOX6+guqw9ypzAO+sf0\n",
            "/RR3w6RbKFfCs/mC/bdFWJsCAwEAAaOCAVowggFWMBIGA1UdEwEB/wQIMAYBAf8C\n",
            "AQAwDgYDVR0PAQH/BAQDAgGGMDQGCCsGAQUFBwEBBCgwJjAkBggrBgEFBQcwAYYY\n",
            "aHR0cDovL29jc3AuZGlnaWNlcnQuY29tMHsGA1UdHwR0MHIwN6A1oDOGMWh0dHA6\n",
            "Ly9jcmwzLmRpZ2ljZXJ0LmNvbS9EaWdpQ2VydEdsb2JhbFJvb3RDQS5jcmwwN6A1\n",
            "oDOGMWh0dHA6Ly9jcmw0LmRpZ2ljZXJ0LmNvbS9EaWdpQ2VydEdsb2JhbFJvb3RD\n",
            "QS5jcmwwPQYDVR0gBDYwNDAyBgRVHSAAMCowKAYIKwYBBQUHAgEWHGh0dHBzOi8v\n",
            "d3d3LmRpZ2ljZXJ0LmNvbS9DUFMwHQYDVR0OBBYEFA+AYRyCMWHVLyjnjUY4tCzh\n",
            "xtniMB8GA1UdIwQYMBaAFAPeUDVW0Uy7ZvCj4hsbw5eyPdFVMA0GCSqGSIb3DQEB\n",
            "CwUAA4IBAQAjPt9L0jFCpbZ+QlwaRMxp0Wi0XUvgBCFsS+JtzLHgl4+mUwnNqipl\n",
            "5TlPHoOlblyYoiQm5vuh7ZPHLgLGTUq/sELfeNqzqPlt/yGFUzZgTHbO7Djc1lGA\n",
            "8MXW5dRNJ2Srm8c+cftIl7gzbckTB+6WohsYFfZcTEDts8Ls/3HB40f/1LkAtDdC\n",
            "2iDJ6m6K7hQGrn2iWZiIqBtvLfTyyRRfJs8sjX7tN8Cp1Tm5gr8ZDOo0rwAhaPit\n",
            "c+LJMto4JQtV05od8GiG7S5BNO98pVAdvzr508EIDObtHopYJeS4d60tbvVS3bR0\n",
            "j6tJLp07kzQoH3jOlOrHvdPJbRzeXDLz\n",
            "-----END CERTIFICATE-----\n",
            " 2 s:C = US, O = DigiCert Inc, OU = www.digicert.com, CN = DigiCert Global Root CA\n",
            "   i:C = US, O = DigiCert Inc, OU = www.digicert.com, CN = DigiCert Global Root CA\n",
            "-----BEGIN CERTIFICATE-----\n",
            "MIIDrzCCApegAwIBAgIQCDvgVpBCRrGhdWrJWZHHSjANBgkqhkiG9w0BAQUFADBh\n",
            "MQswCQYDVQQGEwJVUzEVMBMGA1UEChMMRGlnaUNlcnQgSW5jMRkwFwYDVQQLExB3\n",
            "d3cuZGlnaWNlcnQuY29tMSAwHgYDVQQDExdEaWdpQ2VydCBHbG9iYWwgUm9vdCBD\n",
            "QTAeFw0wNjExMTAwMDAwMDBaFw0zMTExMTAwMDAwMDBaMGExCzAJBgNVBAYTAlVT\n",
            "MRUwEwYDVQQKEwxEaWdpQ2VydCBJbmMxGTAXBgNVBAsTEHd3dy5kaWdpY2VydC5j\n",
            "b20xIDAeBgNVBAMTF0RpZ2lDZXJ0IEdsb2JhbCBSb290IENBMIIBIjANBgkqhkiG\n",
            "9w0BAQEFAAOCAQ8AMIIBCgKCAQEA4jvhEXLeqKTTo1eqUKKPC3eQyaKl7hLOllsB\n",
            "CSDMAZOnTjC3U/dDxGkAV53ijSLdhwZAAIEJzs4bg7/fzTtxRuLWZscFs3YnFo97\n",
            "nh6Vfe63SKMI2tavegw5BmV/Sl0fvBf4q77uKNd0f3p4mVmFaG5cIzJLv07A6Fpt\n",
            "43C/dxC//AH2hdmoRBBYMql1GNXRor5H4idq9Joz+EkIYIvUX7Q6hL+hqkpMfT7P\n",
            "T19sdl6gSzeRntwi5m3OFBqOasv+zbMUZBfHWymeMr/y7vrTC0LUq7dBMtoM1O/4\n",
            "gdW7jVg/tRvoSSiicNoxBN33shbyTApOB6jtSj1etX+jkMOvJwIDAQABo2MwYTAO\n",
            "BgNVHQ8BAf8EBAMCAYYwDwYDVR0TAQH/BAUwAwEB/zAdBgNVHQ4EFgQUA95QNVbR\n",
            "TLtm8KPiGxvDl7I90VUwHwYDVR0jBBgwFoAUA95QNVbRTLtm8KPiGxvDl7I90VUw\n",
            "DQYJKoZIhvcNAQEFBQADggEBAMucN6pIExIK+t1EnE9SsPTfrgT1eXkIoyQY/Esr\n",
            "hMAtudXH/vTBH1jLuG2cenTnmCmrEbXjcKChzUyImZOMkXDiqw8cvpOp/2PV5Adg\n",
            "06O/nVsJ8dWO41P0jmP6P6fbtGbfYmbW0W5BjfIttep3Sp+dWOIrWcBAI+0tKIJF\n",
            "PnlUkiaY4IBIqDfv8NZ5YBberOgOzW6sRBc4L0na4UU+Krk2U886UAb3LujEV0ls\n",
            "YSEY1QSteDwsOoBrp+uvFRTp2InBuThs4pFsiv9kuXclVzDAGySj4dzp30d8tbQk\n",
            "CAUw7C29C79Fv1C5qfPrmAESrciIxpg0X40KPMbp1ZWVbd4=\n",
            "-----END CERTIFICATE-----\n",
            "---\n",
            "Server certificate\n",
            "subject=C = US, ST = California, L = Los Angeles, O = Internet Corporation for Assigned Names and Numbers, OU = Technology, CN = www.example.org\n",
            "\n",
            "issuer=C = US, O = DigiCert Inc, CN = DigiCert SHA2 Secure Server CA\n",
            "\n",
            "---\n",
            "No client certificate CA names sent\n",
            "Peer signing digest: SHA256\n",
            "Peer signature type: RSA-PSS\n",
            "Server Temp Key: ECDH, P-256, 256 bits\n",
            "---\n",
            "SSL handshake has read 4675 bytes and written 747 bytes\n",
            "Verification: OK\n",
            "---\n",
            "New, TLSv1.3, Cipher is TLS_AES_256_GCM_SHA384\n",
            "Server public key is 2048 bit\n",
            "Secure Renegotiation IS NOT supported\n",
            "Compression: NONE\n",
            "Expansion: NONE\n",
            "No ALPN negotiated\n",
            "Early data was not sent\n",
            "Verify return code: 0 (ok)\n",
            "---\n",
            "---\n",
            "Post-Handshake New Session Ticket arrived:\n",
            "SSL-Session:\n",
            "    Protocol  : TLSv1.3\n",
            "    Cipher    : TLS_AES_256_GCM_SHA384\n",
            "    Session-ID: C891C4E9A56BE19C69B3768B12DD578176A114AE876F089B9BB1E7F149AB6A72\n",
            "    Session-ID-ctx: \n",
            "    Resumption PSK: 1DB330E865C0693F0CB41414C55877FE8CA97402BBEFA31B5D54FE1F212B0624A12C14F70EB5E5E5A3FE4B05144B9DEF\n",
            "    PSK identity: None\n",
            "    PSK identity hint: None\n",
            "    SRP username: None\n",
            "    TLS session ticket lifetime hint: 7200 (seconds)\n",
            "    TLS session ticket:\n",
            "    0000 - 3d d7 52 4d 6d 6d e1 95-11 6c b0 7a 48 c4 f9 b1   =.RMmm...l.zH...\n",
            "    0010 - 58 be c6 01 4e ef 27 28-f4 5b fb d5 0a c6 c9 df   X...N.'(.[......\n",
            "    0020 - a1 6a 0c cc 76 ca d3 1f-d4 48 17 ac 6f 59 49 a0   .j..v....H..oYI.\n",
            "    0030 - c5 16 b3 f6 d3 21 fa 74-7c 84 ac 0b be c3 3e d6   .....!.t|.....>.\n",
            "    0040 - 3c 73 29 17 04 7b ef 56-59 b5 37 2c 43 c1 e4 73   <s)..{.VY.7,C..s\n",
            "    0050 - 21 b4 39 20 eb bf d3 4e-c4 8d 17 be bb 44 e2 d5   !.9 ...N.....D..\n",
            "    0060 - 17 1d 8c 4f 54 ce b2 b7-4b ef d7 47 be 86 b3 4d   ...OT...K..G...M\n",
            "    0070 - 60 70 87 c0 92 92 d0 45-cd 96 50 d2 5c 6f e6 f5   `p.....E..P.\\o..\n",
            "    0080 - 83 54 23 fc 8d 52 50 a9-c4 99 ce 31 28 d6 72 4f   .T#..RP....1(.rO\n",
            "    0090 - 1d c4 fc 5b 6d cb 88 d8-e4 8a 5e e6 9e 21 73 8a   ...[m.....^..!s.\n",
            "    00a0 - 99 22 c4 6b ca 7b 7a 29-a7 5f d6 bb 49 65 68 dd   .\".k.{z)._..Ieh.\n",
            "    00b0 - ef 9c d7 9e a1 a4 ed b3-ac 23 d0 64 59 de fa f8   .........#.dY...\n",
            "\n",
            "    Start Time: 1601525088\n",
            "    Timeout   : 7200 (sec)\n",
            "    Verify return code: 0 (ok)\n",
            "    Extended master secret: no\n",
            "    Max Early Data: 0\n",
            "---\n",
            "read R BLOCK\n",
            "---\n",
            "Post-Handshake New Session Ticket arrived:\n",
            "SSL-Session:\n",
            "    Protocol  : TLSv1.3\n",
            "    Cipher    : TLS_AES_256_GCM_SHA384\n",
            "    Session-ID: EA324F8AE197CEB1FAC859D07DFC0311E7BD442547576C65081205B6931BFAA9\n",
            "    Session-ID-ctx: \n",
            "    Resumption PSK: 464CC25940F5ED54D0BC1F40357BA1D0A772EE59DE63FD3AEC4654150D65AC09AFE2E8818C617336F9DDD4BFD94A028A\n",
            "    PSK identity: None\n",
            "    PSK identity hint: None\n",
            "    SRP username: None\n",
            "    TLS session ticket lifetime hint: 7200 (seconds)\n",
            "    TLS session ticket:\n",
            "    0000 - 3d d7 52 4d 6d 6d e1 95-11 6c b0 7a 48 c4 f9 b1   =.RMmm...l.zH...\n",
            "    0010 - 13 95 59 cd 58 a8 1e 2c-3d 12 c3 db 13 52 5a 22   ..Y.X..,=....RZ\"\n",
            "    0020 - 18 f6 aa 9e 58 25 5b 87-5c e8 e6 cf 67 a2 e4 97   ....X%[.\\...g...\n",
            "    0030 - b5 93 d6 12 4c fa 12 39-b9 42 39 1d c8 d6 d9 10   ....L..9.B9.....\n",
            "    0040 - 2e 4c 3b 79 49 5c 89 dd-b6 9f 62 92 9c 78 79 53   .L;yI\\....b..xyS\n",
            "    0050 - fe b6 0a 8e 7f 2e 22 81-92 8c c9 79 90 9d 27 ca   ......\"....y..'.\n",
            "    0060 - 87 09 eb e1 ad f6 4e 9c-71 74 38 a8 7d bd a3 13   ......N.qt8.}...\n",
            "    0070 - d0 d4 fd 7e 2e 43 49 08-e0 b4 3d 10 43 f5 b5 d7   ...~.CI...=.C...\n",
            "    0080 - 13 30 7d e7 0e 50 43 80-ea 52 f7 98 9d 14 72 66   .0}..PC..R....rf\n",
            "    0090 - f7 d1 90 84 96 a0 89 28-60 46 0f 5e e0 97 18 f3   .......(`F.^....\n",
            "    00a0 - 4b 34 a9 fb de 97 f7 99-61 f7 c0 a4 c5 c6 56 bd   K4......a.....V.\n",
            "    00b0 - 2c 0e c7 38 85 57 f1 54-fd c2 a1 ee 2e e3 4d 2e   ,..8.W.T......M.\n",
            "\n",
            "    Start Time: 1601525088\n",
            "    Timeout   : 7200 (sec)\n",
            "    Verify return code: 0 (ok)\n",
            "    Extended master secret: no\n",
            "    Max Early Data: 0\n",
            "---\n",
            "read R BLOCK\n"
          ],
          "name": "stdout"
        }
      ]
    },
    {
      "cell_type": "markdown",
      "metadata": {
        "id": "pncNqkEEHfUf"
      },
      "source": [
        "Дээрх certificate-д хоёр сертификат байгаа. Үүнд subject ба issuer буюу сертификат авж буй сайтийн ба олгосон ямар нэгэн дундийн certificate authority-ийн өөрийн сертификат юм."
      ]
    },
    {
      "cell_type": "markdown",
      "metadata": {
        "id": "BCBeha9eH7us"
      },
      "source": [
        "Эдгээрийг тус тусийн файлд бичхэд certificate бие буюу Begin Certificate гэсэн хэсгээс дуусах End Certificate хүртэл хуулж файл болгоно."
      ]
    },
    {
      "cell_type": "code",
      "metadata": {
        "id": "s95YHGLcmBxP"
      },
      "source": [
        "%%writefile c0.pem\n",
        "-----BEGIN CERTIFICATE-----\n",
        "MIIHQDCCBiigAwIBAgIQD9B43Ujxor1NDyupa2A4/jANBgkqhkiG9w0BAQsFADBN\n",
        "MQswCQYDVQQGEwJVUzEVMBMGA1UEChMMRGlnaUNlcnQgSW5jMScwJQYDVQQDEx5E\n",
        "aWdpQ2VydCBTSEEyIFNlY3VyZSBTZXJ2ZXIgQ0EwHhcNMTgxMTI4MDAwMDAwWhcN\n",
        "MjAxMjAyMTIwMDAwWjCBpTELMAkGA1UEBhMCVVMxEzARBgNVBAgTCkNhbGlmb3Ju\n",
        "aWExFDASBgNVBAcTC0xvcyBBbmdlbGVzMTwwOgYDVQQKEzNJbnRlcm5ldCBDb3Jw\n",
        "b3JhdGlvbiBmb3IgQXNzaWduZWQgTmFtZXMgYW5kIE51bWJlcnMxEzARBgNVBAsT\n",
        "ClRlY2hub2xvZ3kxGDAWBgNVBAMTD3d3dy5leGFtcGxlLm9yZzCCASIwDQYJKoZI\n",
        "hvcNAQEBBQADggEPADCCAQoCggEBANDwEnSgliByCGUZElpdStA6jGaPoCkrp9vV\n",
        "rAzPpXGSFUIVsAeSdjF11yeOTVBqddF7U14nqu3rpGA68o5FGGtFM1yFEaogEv5g\n",
        "rJ1MRY/d0w4+dw8JwoVlNMci+3QTuUKf9yH28JxEdG3J37Mfj2C3cREGkGNBnY80\n",
        "eyRJRqzy8I0LSPTTkhr3okXuzOXXg38ugr1x3SgZWDNuEaE6oGpyYJIBWZ9jF3pJ\n",
        "QnucP9vTBejMh374qvyd0QVQq3WxHrogy4nUbWw3gihMxT98wRD1oKVma1NTydvt\n",
        "hcNtBfhkp8kO64/hxLHrLWgOFT/l4tz8IWQt7mkrBHjbd2XLVPkCAwEAAaOCA8Ew\n",
        "ggO9MB8GA1UdIwQYMBaAFA+AYRyCMWHVLyjnjUY4tCzhxtniMB0GA1UdDgQWBBRm\n",
        "mGIC4AmRp9njNvt2xrC/oW2nvjCBgQYDVR0RBHoweIIPd3d3LmV4YW1wbGUub3Jn\n",
        "ggtleGFtcGxlLmNvbYILZXhhbXBsZS5lZHWCC2V4YW1wbGUubmV0ggtleGFtcGxl\n",
        "Lm9yZ4IPd3d3LmV4YW1wbGUuY29tgg93d3cuZXhhbXBsZS5lZHWCD3d3dy5leGFt\n",
        "cGxlLm5ldDAOBgNVHQ8BAf8EBAMCBaAwHQYDVR0lBBYwFAYIKwYBBQUHAwEGCCsG\n",
        "AQUFBwMCMGsGA1UdHwRkMGIwL6AtoCuGKWh0dHA6Ly9jcmwzLmRpZ2ljZXJ0LmNv\n",
        "bS9zc2NhLXNoYTItZzYuY3JsMC+gLaArhilodHRwOi8vY3JsNC5kaWdpY2VydC5j\n",
        "b20vc3NjYS1zaGEyLWc2LmNybDBMBgNVHSAERTBDMDcGCWCGSAGG/WwBATAqMCgG\n",
        "CCsGAQUFBwIBFhxodHRwczovL3d3dy5kaWdpY2VydC5jb20vQ1BTMAgGBmeBDAEC\n",
        "AjB8BggrBgEFBQcBAQRwMG4wJAYIKwYBBQUHMAGGGGh0dHA6Ly9vY3NwLmRpZ2lj\n",
        "ZXJ0LmNvbTBGBggrBgEFBQcwAoY6aHR0cDovL2NhY2VydHMuZGlnaWNlcnQuY29t\n",
        "L0RpZ2lDZXJ0U0hBMlNlY3VyZVNlcnZlckNBLmNydDAMBgNVHRMBAf8EAjAAMIIB\n",
        "fwYKKwYBBAHWeQIEAgSCAW8EggFrAWkAdwCkuQmQtBhYFIe7E6LMZ3AKPDWYBPkb\n",
        "37jjd80OyA3cEAAAAWdcMZVGAAAEAwBIMEYCIQCEZIG3IR36Gkj1dq5L6EaGVycX\n",
        "sHvpO7dKV0JsooTEbAIhALuTtf4wxGTkFkx8blhTV+7sf6pFT78ORo7+cP39jkJC\n",
        "AHYAh3W/51l8+IxDmV+9827/Vo1HVjb/SrVgwbTq/16ggw8AAAFnXDGWFQAABAMA\n",
        "RzBFAiBvqnfSHKeUwGMtLrOG3UGLQIoaL3+uZsGTX3MfSJNQEQIhANL5nUiGBR6g\n",
        "l0QlCzzqzvorGXyB/yd7nttYttzo8EpOAHYAb1N2rDHwMRnYmQCkURX/dxUcEdkC\n",
        "wQApBo2yCJo32RMAAAFnXDGWnAAABAMARzBFAiEA5Hn7Q4SOyqHkT+kDsHq7ku7z\n",
        "RDuM7P4UDX2ft2Mpny0CIE13WtxJAUr0aASFYZ/XjSAMMfrB0/RxClvWVss9LHKM\n",
        "MA0GCSqGSIb3DQEBCwUAA4IBAQBzcIXvQEGnakPVeJx7VUjmvGuZhrr7DQOLeP4R\n",
        "8CmgDM1pFAvGBHiyzvCH1QGdxFl6cf7wbp7BoLCRLR/qPVXFMwUMzcE1GLBqaGZM\n",
        "v1Yh2lvZSLmMNSGRXdx113pGLCInpm/TOhfrvr0TxRImc8BdozWJavsn1N2qdHQu\n",
        "N+UBO6bQMLCD0KHEdSGFsuX6ZwAworxTg02/1qiDu7zW7RyzHvFYA4IAjpzvkPIa\n",
        "X6KjBtpdvp/aXabmL95YgBjT8WJ7pqOfrqhpcmOBZa6Cg6O1l4qbIFH/Gj9hQB5I\n",
        "0Gs4+eH6F9h3SojmPTYkT+8KuZ9w84Mn+M8qBXUQoYoKgIjN\n",
        "-----END CERTIFICATE-----"
      ],
      "execution_count": null,
      "outputs": []
    },
    {
      "cell_type": "code",
      "metadata": {
        "id": "5s5pak6ImcRs"
      },
      "source": [
        "%%writefile c1.pem\n",
        "-----BEGIN CERTIFICATE-----\n",
        "MIIElDCCA3ygAwIBAgIQAf2j627KdciIQ4tyS8+8kTANBgkqhkiG9w0BAQsFADBh\n",
        "MQswCQYDVQQGEwJVUzEVMBMGA1UEChMMRGlnaUNlcnQgSW5jMRkwFwYDVQQLExB3\n",
        "d3cuZGlnaWNlcnQuY29tMSAwHgYDVQQDExdEaWdpQ2VydCBHbG9iYWwgUm9vdCBD\n",
        "QTAeFw0xMzAzMDgxMjAwMDBaFw0yMzAzMDgxMjAwMDBaME0xCzAJBgNVBAYTAlVT\n",
        "MRUwEwYDVQQKEwxEaWdpQ2VydCBJbmMxJzAlBgNVBAMTHkRpZ2lDZXJ0IFNIQTIg\n",
        "U2VjdXJlIFNlcnZlciBDQTCCASIwDQYJKoZIhvcNAQEBBQADggEPADCCAQoCggEB\n",
        "ANyuWJBNwcQwFZA1W248ghX1LFy949v/cUP6ZCWA1O4Yok3wZtAKc24RmDYXZK83\n",
        "nf36QYSvx6+M/hpzTc8zl5CilodTgyu5pnVILR1WN3vaMTIa16yrBvSqXUu3R0bd\n",
        "KpPDkC55gIDvEwRqFDu1m5K+wgdlTvza/P96rtxcflUxDOg5B6TXvi/TC2rSsd9f\n",
        "/ld0Uzs1gN2ujkSYs58O09rg1/RrKatEp0tYhG2SS4HD2nOLEpdIkARFdRrdNzGX\n",
        "kujNVA075ME/OV4uuPNcfhCOhkEAjUVmR7ChZc6gqikJTvOX6+guqw9ypzAO+sf0\n",
        "/RR3w6RbKFfCs/mC/bdFWJsCAwEAAaOCAVowggFWMBIGA1UdEwEB/wQIMAYBAf8C\n",
        "AQAwDgYDVR0PAQH/BAQDAgGGMDQGCCsGAQUFBwEBBCgwJjAkBggrBgEFBQcwAYYY\n",
        "aHR0cDovL29jc3AuZGlnaWNlcnQuY29tMHsGA1UdHwR0MHIwN6A1oDOGMWh0dHA6\n",
        "Ly9jcmwzLmRpZ2ljZXJ0LmNvbS9EaWdpQ2VydEdsb2JhbFJvb3RDQS5jcmwwN6A1\n",
        "oDOGMWh0dHA6Ly9jcmw0LmRpZ2ljZXJ0LmNvbS9EaWdpQ2VydEdsb2JhbFJvb3RD\n",
        "QS5jcmwwPQYDVR0gBDYwNDAyBgRVHSAAMCowKAYIKwYBBQUHAgEWHGh0dHBzOi8v\n",
        "d3d3LmRpZ2ljZXJ0LmNvbS9DUFMwHQYDVR0OBBYEFA+AYRyCMWHVLyjnjUY4tCzh\n",
        "xtniMB8GA1UdIwQYMBaAFAPeUDVW0Uy7ZvCj4hsbw5eyPdFVMA0GCSqGSIb3DQEB\n",
        "CwUAA4IBAQAjPt9L0jFCpbZ+QlwaRMxp0Wi0XUvgBCFsS+JtzLHgl4+mUwnNqipl\n",
        "5TlPHoOlblyYoiQm5vuh7ZPHLgLGTUq/sELfeNqzqPlt/yGFUzZgTHbO7Djc1lGA\n",
        "8MXW5dRNJ2Srm8c+cftIl7gzbckTB+6WohsYFfZcTEDts8Ls/3HB40f/1LkAtDdC\n",
        "2iDJ6m6K7hQGrn2iWZiIqBtvLfTyyRRfJs8sjX7tN8Cp1Tm5gr8ZDOo0rwAhaPit\n",
        "c+LJMto4JQtV05od8GiG7S5BNO98pVAdvzr508EIDObtHopYJeS4d60tbvVS3bR0\n",
        "j6tJLp07kzQoH3jOlOrHvdPJbRzeXDLz\n",
        "-----END CERTIFICATE-----"
      ],
      "execution_count": null,
      "outputs": []
    },
    {
      "cell_type": "markdown",
      "metadata": {
        "id": "1u_qVz9lILLb"
      },
      "source": [
        "Олгогчийн сертификатаас public key-ийн `n`-ийн утгыг авцгаая:"
      ]
    },
    {
      "cell_type": "code",
      "metadata": {
        "id": "s-F7-hGlmoYZ"
      },
      "source": [
        "! openssl x509 -in c1.pem -noout -modulus"
      ],
      "execution_count": null,
      "outputs": []
    },
    {
      "cell_type": "markdown",
      "metadata": {
        "id": "UbivflGkIvsL"
      },
      "source": [
        "Олгогчийн сертификатаас public key-ийн `e`-ийн утгыг авцгаая. Ингэхдээ хэвлэсэн утгаас Exponent: гэж тэмдэглэсэн тоо нь e юм."
      ]
    },
    {
      "cell_type": "code",
      "metadata": {
        "id": "8FvaKKsemwrL"
      },
      "source": [
        "! openssl x509 -in c1.pem -text -noout"
      ],
      "execution_count": null,
      "outputs": []
    },
    {
      "cell_type": "markdown",
      "metadata": {
        "id": "hqCnpqksJJXe"
      },
      "source": [
        "Сайтийн сертификатийн signature-ийг мөн авая. Үүнд мөн адил хэвлэсэн утгаас олж хуулж авна."
      ]
    },
    {
      "cell_type": "code",
      "metadata": {
        "id": "ZIBD504Jm2Fu"
      },
      "source": [
        "! openssl x509 -in c0.pem -text -noout"
      ],
      "execution_count": null,
      "outputs": []
    },
    {
      "cell_type": "markdown",
      "metadata": {
        "id": "09zL7kRDJVPY"
      },
      "source": [
        "Үүнийг signature гэх файлд бичэе"
      ]
    },
    {
      "cell_type": "code",
      "metadata": {
        "id": "4gqy4Jpwm_xb"
      },
      "source": [
        "%%writefile signature\n",
        "73:70:85:ef:40:41:a7:6a:43:d5:78:9c:7b:55:48:e6:bc:6b:\n",
        "99:86:ba:fb:0d:03:8b:78:fe:11:f0:29:a0:0c:cd:69:14:0b:\n",
        "c6:04:78:b2:ce:f0:87:d5:01:9d:c4:59:7a:71:fe:f0:6e:9e:\n",
        "c1:a0:b0:91:2d:1f:ea:3d:55:c5:33:05:0c:cd:c1:35:18:b0:\n",
        "6a:68:66:4c:bf:56:21:da:5b:d9:48:b9:8c:35:21:91:5d:dc:\n",
        "75:d7:7a:46:2c:22:27:a6:6f:d3:3a:17:eb:be:bd:13:c5:12:\n",
        "26:73:c0:5d:a3:35:89:6a:fb:27:d4:dd:aa:74:74:2e:37:e5:\n",
        "01:3b:a6:d0:30:b0:83:d0:a1:c4:75:21:85:b2:e5:fa:67:00:\n",
        "30:a2:bc:53:83:4d:bf:d6:a8:83:bb:bc:d6:ed:1c:b3:1e:f1:\n",
        "58:03:82:00:8e:9c:ef:90:f2:1a:5f:a2:a3:06:da:5d:be:9f:\n",
        "da:5d:a6:e6:2f:de:58:80:18:d3:f1:62:7b:a6:a3:9f:ae:a8:\n",
        "69:72:63:81:65:ae:82:83:a3:b5:97:8a:9b:20:51:ff:1a:3f:\n",
        "61:40:1e:48:d0:6b:38:f9:e1:fa:17:d8:77:4a:88:e6:3d:36:\n",
        "24:4f:ef:0a:b9:9f:70:f3:83:27:f8:cf:2a:05:75:10:a1:8a:\n",
        "0a:80:88:cd"
      ],
      "execution_count": null,
      "outputs": []
    },
    {
      "cell_type": "markdown",
      "metadata": {
        "id": "GIOyycTjJbQe"
      },
      "source": [
        "Үүнээс илүү зай ба тэмдэгтүүдийг хасаж hex хэлбэрт шилжүүлвэл:"
      ]
    },
    {
      "cell_type": "code",
      "metadata": {
        "id": "wFtsY-Sim7uL"
      },
      "source": [
        "! cat signature | tr -d ’[:space:]:’"
      ],
      "execution_count": null,
      "outputs": []
    },
    {
      "cell_type": "code",
      "metadata": {
        "id": "pcvpt0KaPA9p"
      },
      "source": [
        "%%writefile signature\n",
        "737085ef4041a76a43d5789c7b5548e6bc6b9986bafb0d038b78fe11f029a00ccd69140bc60478b2cef087d5019dc4597a71fef06e9ec1a0b0912d1fea3d55c533050ccdc13518b06a68664cbf5621da5bd948b98c3521915ddc75d77a462c2227a66fd33a17ebbebd13c5122673c05da335896afb27d4ddaa74742e37e5013ba6d030b083d0a1c4752185b2e5fa670030a2bc53834dbfd6a883bbbcd6ed1cb31ef1580382008e9cef90f21a5fa2a306da5dbe9fda5da6e62fde588018d3f1627ba6a39faea86972638165ae8283a3b5978a9b2051ff1a3f61401e48d06b38f9e1fa17d8774a88e63d36244fef0ab99f70f38327f8cf2a057510a18a0a8088cd"
      ],
      "execution_count": null,
      "outputs": []
    },
    {
      "cell_type": "code",
      "metadata": {
        "id": "MNR6m75YFygN"
      },
      "source": [
        "! openssl asn1parse -i -in c0.pem"
      ],
      "execution_count": null,
      "outputs": []
    },
    {
      "cell_type": "markdown",
      "metadata": {
        "id": "JBEzNpvoTCCV"
      },
      "source": [
        "Сертификатийн биеийн хэсгийн аваад"
      ]
    },
    {
      "cell_type": "code",
      "metadata": {
        "id": "FJUr3-MtF3fd"
      },
      "source": [
        "! openssl asn1parse -i -in c0.pem -strparse 4 -out c0_body.bin -noout"
      ],
      "execution_count": null,
      "outputs": []
    },
    {
      "cell_type": "markdown",
      "metadata": {
        "id": "WzaI-WlrTGxg"
      },
      "source": [
        "Хашийг нь бодвол:"
      ]
    },
    {
      "cell_type": "code",
      "metadata": {
        "id": "ezQN2COrF9WW"
      },
      "source": [
        "! sha256sum c0_body.bin"
      ],
      "execution_count": null,
      "outputs": []
    },
    {
      "cell_type": "markdown",
      "metadata": {
        "id": "esiaRFb6TNMR"
      },
      "source": [
        "Хэрэгтэй зүйлүүд буюу CA-ийн public key, signature, мөн сертификатийн хашуудаа гаргаж авлаа. Одоо үүнийг шалгахийн тулд signature-аа public key-ээрээ тайлаад сертификатийн хаштай ижил байгааг шалгахад зөв эсхийг мэдэж болно."
      ]
    },
    {
      "cell_type": "code",
      "metadata": {
        "id": "dxgVdQJOGAO2"
      },
      "source": [
        "n = 'DCAE58904DC1C4301590355B6E3C8215F52C5CBDE3DBFF7143FA642580D4EE18A24DF066D0\\\n",
        "0A736E1198361764AF379DFDFA4184AFC7AF8CFE1A734DCF339790A2968753832BB9A675482D1D5\\\n",
        "6377BDA31321AD7ACAB06F4AA5D4BB74746DD2A93C3902E798080EF13046A143BB59B92BEC20765\\\n",
        "4EFCDAFCFF7AAEDC5C7E55310CE83907A4D7BE2FD30B6AD2B1DF5FFE5774533B3580DDAE8E4498B\\\n",
        "39F0ED3DAE0D7F46B29AB44A74B58846D924B81C3DA738B129748900445751ADD37319792E8CD54\\\n",
        "0D3BE4C13F395E2EB8F35C7E108E8641008D456647B0A165CEA0AA29094EF397EBE82EAB0F72A73\\\n",
        "00EFAC7F4FD1477C3A45B2857C2B3F982FDB745589B'\n",
        "signature = '737085ef4041a76a43d5789c7b5548e6bc6b9986bafb0d038b78fe11f029a00ccd\\\n",
        "69140bc60478b2cef087d5019dc4597a71fef06e9ec1a0b0912d1fea3d55c533050ccdc13518b06\\\n",
        "a68664cbf5621da5bd948b98c3521915ddc75d77a462c2227a66fd33a17ebbebd13c5122673c05d\\\n",
        "a335896afb27d4ddaa74742e37e5013ba6d030b083d0a1c4752185b2e5fa670030a2bc53834dbfd\\\n",
        "6a883bbbcd6ed1cb31ef1580382008e9cef90f21a5fa2a306da5dbe9fda5da6e62fde588018d3f1\\\n",
        "627ba6a39faea86972638165ae8283a3b5978a9b2051ff1a3f61401e48d06b38f9e1fa17d8774a8\\\n",
        "8e63d36244fef0ab99f70f38327f8cf2a057510a18a0a8088cd'\n",
        "body_hash = '2c2a46bf245dab54ddb47298621e9629309f0e2c90c4d80d535c7d4e8ab07d29'\n",
        "e = 65537\n",
        "n = int(n,16)\n",
        "public_key = (e, n)\n",
        "s = int(signature, 16)\n",
        "decoded_signature = pow(s,e,n)\n",
        "decoded_signature_hex = hex(decoded_signature)[2:]\n",
        "\n",
        "print(decoded_signature_hex[-len(body_hash):])\n",
        "print(body_hash)\n",
        "if decoded_signature_hex[-len(body_hash):] == body_hash:\n",
        "  print(\"Signature valid\")\n",
        "else:\n",
        "  print(\"Signature invalid\")\n"
      ],
      "execution_count": null,
      "outputs": []
    }
  ]
}